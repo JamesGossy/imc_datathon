{
 "cells": [
  {
   "cell_type": "markdown",
   "id": "66cd1a49-0c45-487e-b80a-6687da8517d9",
   "metadata": {},
   "source": [
    "# Team Raj Datathon 2025"
   ]
  },
  {
   "cell_type": "code",
   "execution_count": 4,
   "id": "7f5e87ef-a8a3-4b4d-81eb-8b57605afcd9",
   "metadata": {},
   "outputs": [],
   "source": [
    "#import libraries\n",
    "import pandas as pd\n",
    "import numpy as np\n",
    "import matplotlib.pyplot as plt"
   ]
  },
  {
   "cell_type": "markdown",
   "id": "91368d75-dbce-4ef9-b1b2-0fa03cc5ff2e",
   "metadata": {},
   "source": [
    "TEST"
   ]
  },
  {
   "cell_type": "code",
   "execution_count": 5,
   "id": "b4d4e45e",
   "metadata": {},
   "outputs": [
    {
     "name": "stdout",
     "output_type": "stream",
     "text": [
      "hello world\n"
     ]
    }
   ],
   "source": [
    "print(\"hello world\")"
   ]
  }
 ],
 "metadata": {
  "kernelspec": {
   "display_name": "Python 3",
   "language": "python",
   "name": "python3"
  },
  "language_info": {
   "codemirror_mode": {
    "name": "ipython",
    "version": 3
   },
   "file_extension": ".py",
   "mimetype": "text/x-python",
   "name": "python",
   "nbconvert_exporter": "python",
   "pygments_lexer": "ipython3",
   "version": "3.11.0"
  }
 },
 "nbformat": 4,
 "nbformat_minor": 5
}
