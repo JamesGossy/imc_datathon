{
 "cells": [
  {
   "cell_type": "markdown",
   "id": "66cd1a49-0c45-487e-b80a-6687da8517d9",
   "metadata": {},
   "source": [
    "# Team Raj Datathon 2025"
   ]
  },
  {
   "cell_type": "code",
   "execution_count": null,
   "id": "7f5e87ef-a8a3-4b4d-81eb-8b57605afcd9",
   "metadata": {},
   "outputs": [],
   "source": [
    "#import libraries\n",
    "import pandas as pd\n",
    "import numpy as np\n",
    "import matplotlib.pyplot as plt\n",
    "\n",
    "%matplotlib inline\n",
    "import seaborn as sns\n",
    "\n",
    "from sklearn.model_selection import train_test_split"
   ]
  },
  {
   "cell_type": "code",
   "execution_count": 13,
   "id": "b4d4e45e",
   "metadata": {},
   "outputs": [],
   "source": [
    "# reading in data\n",
    "visitation_df=pd.read_csv('data/visitation_data.csv')\n",
    "climate_df=pd.read_csv('data/climate_data.csv')"
   ]
  },
  {
   "cell_type": "code",
   "execution_count": null,
   "id": "341a4193",
   "metadata": {},
   "outputs": [
    {
     "name": "stdout",
     "output_type": "stream",
     "text": [
      "1210\n"
     ]
    }
   ],
   "source": [
    "# cleaning climate data\n",
    "\n",
    "# trim pre-2014 data\n",
    "climate_filtered_df = climate_df[climate_df['Year'] >= 2014]\n",
    "\n",
    "# get ONLY snow seasons for each year\n",
    "climate_filtered_df = climate_filtered_df[\n",
    "    ((climate_filtered_df['Month'] == 6) & (climate_filtered_df['Day'] >= 9)) |\n",
    "    ((climate_filtered_df['Month'].isin([7,8]   ))) | \n",
    "    ((climate_filtered_df['Month'] == 9) & (climate_filtered_df['Day'] <= 21))\n",
    "    ]\n",
    "\n",
    "# datetime processing\n",
    "climate_filtered_df['Date'] = pd.to_datetime(\n",
    "    dict(year=2000, month=climate_filtered_df['Month'], day=climate_filtered_df['Day'])\n",
    ")\n",
    "\n",
    "# adding a week column for each date\n",
    "start_date = pd.Timestamp(year=2000, month=6, day=9)\n",
    "climate_filtered_df['DaysSinceJune9'] = (climate_filtered_df['Date'] - start_date).dt.days\n",
    "climate_filtered_df['Week'] = (climate_filtered_df['DaysSinceJune9'] // 7) + 1\n",
    "climate_filtered_df.drop(columns='DaysSinceJune9', inplace=True)\n",
    "climate_filtered_df.drop(columns='Date', inplace=True)\n",
    "\n",
    "# averaging over each week\n",
    "week_av_clim_df = climate_filtered_df.groupby(\n",
    "    ['Bureau of Meteorology station number', 'Year', 'Week']\n",
    "    ) [[\n",
    "        'Maximum temperature (Degree C)',\n",
    "        'Minimum temperature (Degree C)',\n",
    "        'Rainfall amount (millimetres)'\n",
    "    ]].mean().reset_index()\n",
    "\n",
    "# deal with remaining NaN that weren't removed by averaging over each week\n",
    "# imputing on median (reduces impact of outlier weather conditions)  \n",
    "\n",
    "cols_to_fill = [\n",
    "    'Maximum temperature (Degree C)',\n",
    "    'Minimum temperature (Degree C)',\n",
    "    'Rainfall amount (millimetres)'\n",
    "]\n",
    "\n",
    "station_week_clim_avg = week_av_clim_df.groupby(['Bureau of Meteorology station number', 'Week'])[cols_to_fill].transform('median')\n",
    "week_av_clim_df[cols_to_fill] = week_av_clim_df[cols_to_fill].fillna(station_week_clim_avg)"
   ]
  }
 ],
 "metadata": {
  "kernelspec": {
   "display_name": "Python 3",
   "language": "python",
   "name": "python3"
  },
  "language_info": {
   "codemirror_mode": {
    "name": "ipython",
    "version": 3
   },
   "file_extension": ".py",
   "mimetype": "text/x-python",
   "name": "python",
   "nbconvert_exporter": "python",
   "pygments_lexer": "ipython3",
   "version": "3.11.0"
  }
 },
 "nbformat": 4,
 "nbformat_minor": 5
}
